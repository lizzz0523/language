{
 "cells": [
  {
   "cell_type": "markdown",
   "metadata": {},
   "source": [
    "# 逻辑回归的数学推导和其python实现"
   ]
  },
  {
   "cell_type": "markdown",
   "metadata": {},
   "source": [
    "对于逻辑回归模型，我们有如下假设：\n",
    "\n",
    "$$ y=h(x)=sigmoid(g(x))=\\frac{1}{1+\\exp(-g(x))}=\\frac{1}{1+\\exp(-W.T\\times x)} $$"
   ]
  },
  {
   "cell_type": "markdown",
   "metadata": {},
   "source": [
    "其中有:\n",
    "\n",
    "$$ sigmoid(x)=\\frac{1}{1+exp(-x)} $$\n",
    "$$ g(x)=W.T\\times x $$"
   ]
  },
  {
   "cell_type": "markdown",
   "metadata": {},
   "source": [
    "这里的 $ h(x) $ 可以理解成当输入特征为 $ x $ 时，输出为 $ y=1 $ 的概率，即： \n",
    "\n",
    "$$ P(y=1|x;W)=h(x) $$\n",
    "$$ P(y=0|x;W)=1-h(x) $$"
   ]
  },
  {
   "cell_type": "markdown",
   "metadata": {},
   "source": [
    "把上面两个公式联合在一起，得出如下方程：\n",
    "\n",
    "$$ P(y|x;W)=h(x)^{y}(1-h(x))^{1-y} $$"
   ]
  },
  {
   "cell_type": "markdown",
   "metadata": {},
   "source": [
    "这里可以理解成 $ P(y|x;W) $ 是服从伯努利分布的，即：\n",
    "\n",
    "$$ P(y|x;W)\\sim Bernoulli(h(x)) $$"
   ]
  },
  {
   "cell_type": "markdown",
   "metadata": {},
   "source": [
    "为了使我的假设的模型尽量和真实的情况相符，亦即求出模型的最大似然：\n",
    "\n",
    "$$ \\max \\prod_{i=1}^{m}P(y_i|x_i;W_i) $$"
   ]
  },
  {
   "cell_type": "markdown",
   "metadata": {},
   "source": [
    "令 $ L(W) $ 为模型关于参数 $ W $ 的似然函数：\n",
    "\n",
    "$$ L(W)=\\prod_{i=1}^{m}P(y_i|x_i;W_i) $$"
   ]
  },
  {
   "cell_type": "markdown",
   "metadata": {},
   "source": [
    "$$ l(W)=ln(L(W)) $$"
   ]
  },
  {
   "cell_type": "markdown",
   "metadata": {},
   "source": [
    "$$ l(W)=ln(\\prod_{i=1}^{m}P(y_i|x_i;W_i))=ln(\\prod_{i=1}^{m}h(x_i)^{y_i}(1-h(x_i))^{1-y_i}) $$"
   ]
  },
  {
   "cell_type": "markdown",
   "metadata": {},
   "source": [
    "$$ l(W)=\\sum_{i=1}^{m}ln(h(x_i)^{y_i}(1-h(x_i))^{1-y_i}) $$"
   ]
  },
  {
   "cell_type": "markdown",
   "metadata": {},
   "source": [
    "$$ l(W)=\\sum_{i=1}^{m}y_iln(h(x_i))+(1-y_i)ln(1-h(x_i)) $$"
   ]
  },
  {
   "cell_type": "markdown",
   "metadata": {},
   "source": [
    "$$ \\max L(W)\\sim \\max l(W)=\\max \\sum_{i=1}^{m}y_iln(h(x_i))+(1-y_i)ln(1-h(x_i)) $$"
   ]
  },
  {
   "cell_type": "markdown",
   "metadata": {},
   "source": [
    "采用梯度上升算法求解，令：\n",
    "\n",
    "$$ Q=\\sum_{i=1}^{m}y_iln(h(x_i))+(1-y_i)ln(1-h(x_i)) $$"
   ]
  },
  {
   "cell_type": "markdown",
   "metadata": {},
   "source": [
    "其梯度表达式为：\n",
    "\n",
    "$$ \\frac{\\partial Q}{\\partial W_i}=\\frac{y_i}{h(x_i)}\\frac{\\partial h(x_i)}{\\partial W_i}-\\frac{1-y_i}{1-h(x_i)}\\frac{\\partial h(x_i)}{\\partial W_i} $$"
   ]
  },
  {
   "cell_type": "markdown",
   "metadata": {},
   "source": [
    "$$ \\frac{\\partial Q}{\\partial W_i}=(\\frac{y_i}{h(x_i)}-\\frac{1-y_i}{1-h(x_i)})\\frac{\\partial h(x_i)}{\\partial W_i} $$"
   ]
  },
  {
   "cell_type": "markdown",
   "metadata": {},
   "source": [
    "$$ \\frac{\\partial Q}{\\partial W_i}=(\\frac{y_i-h(x_i)}{h(x_i)(1-h(x_i))})\\frac{\\partial h(x_i)}{\\partial W_i} $$"
   ]
  },
  {
   "cell_type": "markdown",
   "metadata": {},
   "source": [
    "$$ \\frac{\\partial Q}{\\partial W_i}=(\\frac{y_i-h(x_i)}{\\frac{\\exp(-g(x_i))}{(1+\\exp(-g(x_i)))^2}})(\\frac{\\exp(-g(x_i))}{(1+exp(-g(x_i)))^2})\\frac{\\partial g(x_i)}{\\partial W_i} $$"
   ]
  },
  {
   "cell_type": "markdown",
   "metadata": {},
   "source": [
    "$$ \\frac{\\partial Q}{\\partial W_i}=(y_i-h(x_i))x_i $$"
   ]
  },
  {
   "cell_type": "markdown",
   "metadata": {},
   "source": [
    "因此我们可以得出参数 $ W $ 的更新方程为：\n",
    "\n",
    "$$ W^k_i=W^{k-1}_i+a\\frac{\\partial Q}{\\partial W_i} $$"
   ]
  },
  {
   "cell_type": "markdown",
   "metadata": {},
   "source": [
    "其中 $ a $ 为学习率，一下为逻辑回归的python实现："
   ]
  },
  {
   "cell_type": "code",
   "execution_count": 1,
   "metadata": {},
   "outputs": [
    {
     "name": "stdout",
     "output_type": "stream",
     "text": [
      "[[ 0.03618177 -1.16880035  5.33487419]]\n"
     ]
    }
   ],
   "source": [
    "import numpy as np\n",
    "\n",
    "# y的列向量\n",
    "y = np.mat([\n",
    "    [1],\n",
    "    [1],\n",
    "    [1],\n",
    "    [0],\n",
    "    [0]\n",
    "]).T # 1,5\n",
    "\n",
    "# x的列向量\n",
    "x = np.mat([\n",
    "    [1,2,1],\n",
    "    [2,2,1],\n",
    "    [3,1,1],\n",
    "    [7,8,1],\n",
    "    [9,10,1]\n",
    "]).T # 3,5\n",
    "\n",
    "# 权重\n",
    "W = np.mat([1.0,1.0,1.0]) # 1,3\n",
    "\n",
    "# 迭代次数\n",
    "niter = 20000\n",
    "# 学习率\n",
    "lr = 0.001\n",
    "\n",
    "def sigmoid(x):\n",
    "    return 1.0 / (1 + np.exp(-x))\n",
    "\n",
    "for i in range(niter):\n",
    "    W = W + lr * (y - sigmoid(W * x)) * x.T\n",
    "    \n",
    "print(W)"
   ]
  },
  {
   "cell_type": "markdown",
   "metadata": {},
   "source": [
    "其实大家有没有留意，其实logistic regression，就是神经网络的一个神经元。"
   ]
  }
 ],
 "metadata": {
  "kernelspec": {
   "display_name": "Python 3",
   "language": "python",
   "name": "python3"
  },
  "language_info": {
   "codemirror_mode": {
    "name": "ipython",
    "version": 3
   },
   "file_extension": ".py",
   "mimetype": "text/x-python",
   "name": "python",
   "nbconvert_exporter": "python",
   "pygments_lexer": "ipython3",
   "version": "3.6.3"
  }
 },
 "nbformat": 4,
 "nbformat_minor": 2
}
