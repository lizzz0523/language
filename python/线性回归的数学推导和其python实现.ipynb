{
 "cells": [
  {
   "cell_type": "markdown",
   "metadata": {},
   "source": [
    "# 线性回归的数学推导和其python实现"
   ]
  },
  {
   "cell_type": "markdown",
   "metadata": {},
   "source": [
    "e为真实值和预测值之间的误差\n",
    "\n",
    "$$ e = y - h(x,W) $$"
   ]
  },
  {
   "cell_type": "markdown",
   "metadata": {},
   "source": [
    "而这个误差e，是由许多不同的因素而产生的，例如：\n",
    "* 可能我们所使用到的特征数量不足\n",
    "* 可能收集的数据带有噪声\n",
    "\n",
    "根据中心极限定理，当一个变量是大量的独立随机事件产生的结果，那么我们倾向于使这个变量服从高斯分布，即：\n",
    "\n",
    "$$ P(e)\\sim N(0, \\sigma) $$"
   ]
  },
  {
   "cell_type": "markdown",
   "metadata": {},
   "source": [
    "即：\n",
    "\n",
    "$$ P(e)=\\frac{1}{\\sqrt{2\\pi}\\sigma}\\exp(\\frac{-e^2}{2\\sigma^2}) $$"
   ]
  },
  {
   "cell_type": "markdown",
   "metadata": {},
   "source": [
    "把误差e的定义带入上式得：\n",
    "\n",
    "$$ P(y|x;W)=\\frac{1}{\\sqrt{2\\pi}\\sigma}\\exp(\\frac{-(y-h(x,W))^2}{2\\sigma^2}) $$"
   ]
  },
  {
   "cell_type": "markdown",
   "metadata": {},
   "source": [
    "可以看出， $ P(y|x;W) $ 亦服从高斯分布：\n",
    "\n",
    "$$ P(y|x;W)\\sim N(h(x,W),\\sigma) $$"
   ]
  },
  {
   "cell_type": "markdown",
   "metadata": {},
   "source": [
    "为了使我的假设的模型尽量和真实的情况相符，亦即求出模型的最大似然：\n",
    "\n",
    "$$ \\max \\prod_{i=1}^{n} P(y_i|x;W_i) $$"
   ]
  },
  {
   "cell_type": "markdown",
   "metadata": {},
   "source": [
    "令 $ L(W) $ 为模型关于参数 $ W $ 的似然函数：\n",
    "\n",
    "$$ L(W)=\\prod_{i=1}^{n} P(y_i|x;W_i) $$"
   ]
  },
  {
   "cell_type": "markdown",
   "metadata": {},
   "source": [
    "$$ l(W)=\\ln(L(W)) $$"
   ]
  },
  {
   "cell_type": "markdown",
   "metadata": {},
   "source": [
    "$$ l(W)=\\ln(\\prod_{i=1}^{n} P(y_i|x;W_i))=\\ln(\\prod_{i=1}^{n} \\frac{1}{\\sqrt{2\\pi}\\sigma}\\exp(\\frac{-(y_i-h(x,W_i))^2}{2\\sigma^2})) $$"
   ]
  },
  {
   "cell_type": "markdown",
   "metadata": {},
   "source": [
    "$$ l(W)=\\sum_{i=1}^{n} \\ln(\\frac{1}{\\sqrt{2\\pi}\\sigma}\\exp(\\frac{-(y_i-h(x,W_i))^2}{2\\sigma^2}) $$"
   ]
  },
  {
   "cell_type": "markdown",
   "metadata": {},
   "source": [
    "$$ l(W)=\\sum_{i=1}^{n} \\ln(\\frac{1}{\\sqrt{2\\pi}\\sigma})+ln(\\exp(\\frac{-(y_i-h(x,W_i))^2}{2\\sigma^2}) $$"
   ]
  },
  {
   "cell_type": "markdown",
   "metadata": {},
   "source": [
    "$$ l(W)=n\\ln(\\frac{1}{\\sqrt{2\\pi}\\sigma})+\\sum_{i=1}^{n}\\ln(\\exp(\\frac{-(y_i-h(x,W_i))^2}{2\\sigma^2})) $$"
   ]
  },
  {
   "cell_type": "markdown",
   "metadata": {},
   "source": [
    "$$ l(W)=n\\ln(\\frac{1}{\\sqrt{2\\pi}\\sigma})+\\sum_{i=1}^{n} \\frac{-(y_i-h(x,W_i))^2}{2\\sigma^2} $$"
   ]
  },
  {
   "cell_type": "markdown",
   "metadata": {},
   "source": [
    "到这里，我们可以得出，最多似然，实际就是求模型的最小二乘参数：\n",
    "\n",
    "$$ \\max L(W)\\sim \\max l(W)=\\max n\\ln(\\frac{1}{\\sqrt{2\\pi}\\sigma})+\\sum_{i=1}^{n} \\frac{-(y_i-h(x,W_i))^2}{2\\sigma^2}\\sim\\min \\sum_{i=1}^{n}(y_i-h(x,W_i))^2 $$"
   ]
  },
  {
   "cell_type": "markdown",
   "metadata": {},
   "source": [
    "最小二乘 $ \\min \\sum_{i=1}^{n}(y_i-h(x,W_i))^2 $ ，采用梯度下降算法求解，设 $ Q $ 为最小二乘：\n",
    "\n",
    "$$ Q=\\sum_{i=1}^{n}\\frac{1}{2}(y_i - h(x,W_i))^2 $$"
   ]
  },
  {
   "cell_type": "markdown",
   "metadata": {},
   "source": [
    "其梯度表达式为：\n",
    "\n",
    "$$ \\frac{\\partial Q}{\\partial W_i}=-(y_i-h(x,W_i))x_i $$"
   ]
  },
  {
   "cell_type": "markdown",
   "metadata": {},
   "source": [
    "因此我们可以得出参数 $ W $ 的更新方程为：\n",
    "\n",
    "$$ W^k_i=W^{k-1}_i-a\\frac{\\partial Q}{\\partial W_i} $$"
   ]
  },
  {
   "cell_type": "markdown",
   "metadata": {},
   "source": [
    "其中 $ a $ 为学习率，一下为线性回归的python实现："
   ]
  },
  {
   "cell_type": "code",
   "execution_count": 6,
   "metadata": {},
   "outputs": [
    {
     "name": "stdout",
     "output_type": "stream",
     "text": [
      "[[-1. -1. 10.]]\n"
     ]
    }
   ],
   "source": [
    "import numpy as np\n",
    "\n",
    "# y的列向量\n",
    "y = np.mat([\n",
    "    [7],\n",
    "    [6],\n",
    "    [6],\n",
    "    [-5],\n",
    "    [-9]\n",
    "]).T # 1,5\n",
    "\n",
    "# x的列向量\n",
    "x = np.mat([\n",
    "    [1,2,1],\n",
    "    [2,2,1],\n",
    "    [3,1,1],\n",
    "    [7,8,1],\n",
    "    [9,10,1]\n",
    "]).T # 2,5\n",
    "\n",
    "# 权重\n",
    "W = np.mat([1.0,1.0,1.0]) # 1,2\n",
    "\n",
    "# 迭代次数\n",
    "niter = 10000\n",
    "# 学习率\n",
    "lr = 0.005\n",
    "\n",
    "for i in range(niter):\n",
    "    W = W + lr * (y - W * x) * x.T\n",
    "    \n",
    "print(W)"
   ]
  },
  {
   "cell_type": "code",
   "execution_count": null,
   "metadata": {},
   "outputs": [],
   "source": [
    "    "
   ]
  }
 ],
 "metadata": {
  "kernelspec": {
   "display_name": "Python 3",
   "language": "python",
   "name": "python3"
  },
  "language_info": {
   "codemirror_mode": {
    "name": "ipython",
    "version": 3
   },
   "file_extension": ".py",
   "mimetype": "text/x-python",
   "name": "python",
   "nbconvert_exporter": "python",
   "pygments_lexer": "ipython3",
   "version": "3.6.3"
  }
 },
 "nbformat": 4,
 "nbformat_minor": 2
}
